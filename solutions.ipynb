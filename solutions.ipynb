{
 "cells": [
  {
   "cell_type": "markdown",
   "metadata": {},
   "source": [
    "# Leetcode solutions\n",
    "[Neetcode 150 Roadmap](https://neetcode.io/roadmap), [Google sheets summary](https://docs.google.com/spreadsheets/d/1jxMLHPfxnBhfbUiL_GacDtjVwi3p8DimxJ5CoDQgGMM/edit?usp=sharing)\n",
    "\n"
   ]
  },
  {
   "cell_type": "markdown",
   "metadata": {},
   "source": [
    "\n",
    "## Arrays & Hashing"
   ]
  },
  {
   "cell_type": "code",
   "execution_count": 1,
   "metadata": {},
   "outputs": [],
   "source": [
    "from collections import defaultdict, deque\n",
    "import math"
   ]
  },
  {
   "cell_type": "markdown",
   "metadata": {},
   "source": [
    "### Contains Duplicate\n",
    "[leetcode link](https://leetcode.com/problems/contains-duplicate/description/)"
   ]
  },
  {
   "cell_type": "code",
   "execution_count": 2,
   "metadata": {},
   "outputs": [],
   "source": [
    "class Solution:\n",
    "    def containsDuplicate(self, nums: list[int]) -> bool:\n",
    "        # return self.__contains_duplicate_using_sort(nums)\n",
    "        return self.__contains_duplicate_using_set(nums)\n",
    "    \n",
    "    def __contains_duplicate_using_sort(self, nums: list[int]) -> bool:\n",
    "        nums.sort()\n",
    "        \n",
    "        for i in range(len(nums)-1):\n",
    "            if nums[i] == nums[i+1]:\n",
    "                return True\n",
    "        \n",
    "        return False\n",
    "    \n",
    "    def __contains_duplicate_using_set(self, nums: list[int]) -> bool:\n",
    "        nums_set = set()\n",
    "\n",
    "        for num in nums:            \n",
    "            if num in nums_set:\n",
    "                return True\n",
    "            nums_set.add(num)\n",
    "        \n",
    "        return False"
   ]
  },
  {
   "cell_type": "markdown",
   "metadata": {},
   "source": [
    "### Valid Anagram\n",
    "[leetcode link](https://leetcode.com/problems/valid-anagram/description/)"
   ]
  },
  {
   "cell_type": "code",
   "execution_count": 3,
   "metadata": {},
   "outputs": [],
   "source": [
    "class Solution:\n",
    "    def isAnagram(self, s: str, t: str) -> bool:\n",
    "        # return self.__are_strings_equal_by_sort(s, t)\n",
    "        return self.__are_strings_equal_by_hashmap(s, t)\n",
    "\n",
    "    # very inefficient\n",
    "    def __are_strings_equal_by_sort(self, s: str, t: str) -> bool:\n",
    "        if len(s) != len(t):\n",
    "            return False\n",
    "\n",
    "        str1 = list(s)\n",
    "        str2 = list(t)\n",
    "\n",
    "        str1.sort()\n",
    "        str2.sort()\n",
    "\n",
    "        for i in range(len(str1)):\n",
    "            if str1[i] != str2[i]:\n",
    "                return False\n",
    "\n",
    "        return True\n",
    "    \n",
    "    def __are_strings_equal_by_hashmap(self, s: str, t: str) -> bool:\n",
    "        if len(s) != len(t):\n",
    "            return False\n",
    "\n",
    "        counter = {}\n",
    "\n",
    "        for i in range(len(s)):\n",
    "            counter[s[i]] = counter.get(s[i], 0) + 1\n",
    "            counter[t[i]] = counter.get(t[i], 0) - 1\n",
    "        \n",
    "        for key, value in counter.items():\n",
    "            if value != 0:\n",
    "                return False\n",
    "        \n",
    "        return True"
   ]
  },
  {
   "cell_type": "markdown",
   "metadata": {},
   "source": [
    "### Two Sum\n",
    "[leetcode link](https://leetcode.com/problems/two-sum/description/)"
   ]
  },
  {
   "cell_type": "code",
   "execution_count": 4,
   "metadata": {},
   "outputs": [],
   "source": [
    "class Solution:\n",
    "    def twoSum(self, nums: list[int], target: int) -> list[int]:\n",
    "        # return self.__brute_force(nums, target)\n",
    "        return self.__using_sets(nums, target)\n",
    "    \n",
    "    def __brute_force(self, nums: list[int], target: int) -> list[int]:\n",
    "\n",
    "        for i in range(len(nums)-1):\n",
    "            for j in range(i+1, len(nums)):\n",
    "                if nums[i] + nums[j] == target:\n",
    "                    return [i, j]\n",
    "        \n",
    "        return []\n",
    "\n",
    "    def __using_sets(self, nums: list[int], target: int) -> list[int]:\n",
    "        already_seen = {} # {value: index}\n",
    "\n",
    "        for i in range(len(nums)):\n",
    "            to_find = target - nums[i]\n",
    "            if to_find in already_seen:\n",
    "                return [i, already_seen[to_find]]\n",
    "            \n",
    "            already_seen[nums[i]] = i\n",
    "        \n",
    "        return []"
   ]
  },
  {
   "cell_type": "markdown",
   "metadata": {},
   "source": [
    "### Group Anagrams\n",
    "[leetcode link](https://leetcode.com/problems/group-anagrams/description/)"
   ]
  },
  {
   "cell_type": "code",
   "execution_count": 5,
   "metadata": {},
   "outputs": [],
   "source": [
    "class Solution:\n",
    "    def groupAnagrams(self, strs: list[str]) -> list[list[str]]:\n",
    "        encstring_anagram: dict[tuple[int, ...], list[str]] = defaultdict(list)\n",
    "\n",
    "        for s in strs:\n",
    "            encstring_anagram[self.__encode(s)].append(s)\n",
    "        \n",
    "        return encstring_anagram.values()\n",
    "\n",
    "    def __encode(self, s: str) -> tuple[int, ...]:\n",
    "        encoded_s = [0] * 26\n",
    "\n",
    "        for c in s:\n",
    "            encoded_s[ord(c) - ord('a')] += 1\n",
    "        \n",
    "        return tuple(encoded_s)"
   ]
  },
  {
   "cell_type": "markdown",
   "metadata": {},
   "source": [
    "### Top K Frequent Elements\n",
    "[leetcode link](https://leetcode.com/problems/top-k-frequent-elements/description/)"
   ]
  },
  {
   "cell_type": "code",
   "execution_count": 6,
   "metadata": {},
   "outputs": [],
   "source": [
    "class Solution:\n",
    "    def topKFrequent(self, nums: list[int], k: int) -> list[int]:\n",
    "        result = []\n",
    "        freq_bucket = [[] for _ in range(len(nums) + 1)]\n",
    "\n",
    "        freq_map = defaultdict(int)\n",
    "\n",
    "        for num in nums:\n",
    "            freq_map[num] += 1\n",
    "        \n",
    "        for num, freq in freq_map.items():\n",
    "            freq_bucket[freq].append(num)\n",
    "        \n",
    "        for i in range(len(freq_bucket) - 1, 0, -1):\n",
    "            for num in freq_bucket[i]:\n",
    "                result.append(num)\n",
    "                if len(result) == k:\n",
    "                    return result\n",
    "        \n",
    "        return []"
   ]
  },
  {
   "cell_type": "markdown",
   "metadata": {},
   "source": [
    "### Product of Array Except Self\n",
    "[leetcode link](https://leetcode.com/problems/product-of-array-except-self/description/)"
   ]
  },
  {
   "cell_type": "code",
   "execution_count": 7,
   "metadata": {},
   "outputs": [],
   "source": [
    "class Solution:\n",
    "    def productExceptSelf(self, nums: list[int]) -> list[int]:\n",
    "        return self.__no_extra_array(nums)\n",
    "    \n",
    "    # Time: O(n2), Space: O(n)\n",
    "    def __brute_force(self, nums):\n",
    "        res = []\n",
    "        \n",
    "        for i in range(len(nums)):\n",
    "            val = 1\n",
    "            for j in range(len(nums)):\n",
    "                if i != j:\n",
    "                    val *= nums[j]\n",
    "            res.append(val)\n",
    "        \n",
    "        return res\n",
    "    \n",
    "    # Time: O(n), Space: O(n)\n",
    "    def __two_extra_arrays(self, nums):\n",
    "        n = len(nums)\n",
    "        res = [1] * n\n",
    "        pre = [1] * n\n",
    "        post = [1] * n\n",
    "\n",
    "        for i in range(1, n):\n",
    "            pre[i] = pre[i-1] * nums[i-1]\n",
    "            post[n-i-1] = post[n-i] * nums[n-i]\n",
    "        \n",
    "        for i in range(n):\n",
    "            res[i] = pre[i] * post[i]\n",
    "\n",
    "        return res\n",
    "\n",
    "    # Time: O(n), Space: O(1)\n",
    "    def __no_extra_array(self, nums):\n",
    "        n = len(nums)\n",
    "        res = [1] * n\n",
    "\n",
    "        # can also combine both the following loops into one\n",
    "        # pre = 1\n",
    "        # for i in range(n):\n",
    "        #     res[i] = pre\n",
    "        #     pre *= nums[i]\n",
    "        \n",
    "        # post = 1\n",
    "        # for i in range(n-1, -1, -1):\n",
    "        #     res[i] *= post\n",
    "        #     post *= nums[i]\n",
    "        \n",
    "        pre, post = 1, 1\n",
    "        for i in range(n):\n",
    "            res[i] *= pre        \n",
    "            res[n-i-1] *= post\n",
    "\n",
    "            pre *= nums[i]\n",
    "            post *= nums[n-i-1]\n",
    "\n",
    "        return res"
   ]
  },
  {
   "cell_type": "markdown",
   "metadata": {},
   "source": [
    "### Valid Sudoku\n",
    "[leetcode link](https://leetcode.com/problems/valid-sudoku/description/)"
   ]
  },
  {
   "cell_type": "code",
   "execution_count": 8,
   "metadata": {},
   "outputs": [],
   "source": [
    "class Solution:\n",
    "    def isValidSudoku(self, board: list[list[str]]) -> bool:\n",
    "        rows = defaultdict(set)\n",
    "        cols = defaultdict(set)\n",
    "        boxes = defaultdict(set)\n",
    "\n",
    "        for i in range(9):\n",
    "            for j in range(9):\n",
    "                cell_in_focus = board[i][j]\n",
    "\n",
    "                if cell_in_focus == \".\":\n",
    "                    continue\n",
    "                \n",
    "                elif (cell_in_focus in rows[i] or\n",
    "                    cell_in_focus in cols[j] or\n",
    "                    cell_in_focus in boxes[(i//3, j//3)]):\n",
    "                    return False\n",
    "                \n",
    "                else:\n",
    "                    rows[i].add(cell_in_focus)\n",
    "                    cols[j].add(cell_in_focus)\n",
    "                    boxes[(i//3, j//3)].add(cell_in_focus)\n",
    "        \n",
    "        return True"
   ]
  },
  {
   "cell_type": "markdown",
   "metadata": {},
   "source": [
    "### Longest Consecutive Sequence\n",
    "[leetcode link](https://leetcode.com/problems/longest-consecutive-sequence/description/)"
   ]
  },
  {
   "cell_type": "code",
   "execution_count": 9,
   "metadata": {},
   "outputs": [],
   "source": [
    "class Solution:\n",
    "    def longestConsecutive(self, nums: list[int]) -> int:\n",
    "        nums_set = set(nums)\n",
    "        max_seq_len = 0\n",
    "\n",
    "        for num in nums:\n",
    "            # sequence starts with num\n",
    "            if num-1 not in nums_set: \n",
    "                seq_len = 1\n",
    "                val = num + 1\n",
    "                # Check all consecutive greater numbers if they are part of sequence\n",
    "                while (val in nums_set):    \n",
    "                    seq_len += 1\n",
    "                    val += 1\n",
    "                \n",
    "                max_seq_len = max(max_seq_len, seq_len)\n",
    "        \n",
    "        return max_seq_len"
   ]
  },
  {
   "cell_type": "markdown",
   "metadata": {},
   "source": [
    "## Two Pointers"
   ]
  },
  {
   "cell_type": "markdown",
   "metadata": {},
   "source": [
    "### Valid Palindrome\n",
    "[leetcode link](https://leetcode.com/problems/valid-palindrome/)"
   ]
  },
  {
   "cell_type": "code",
   "execution_count": 10,
   "metadata": {},
   "outputs": [],
   "source": [
    "class Solution:\n",
    "    def isPalindrome(self, s: str) -> bool:\n",
    "        i, j = 0, len(s) - 1\n",
    "\n",
    "        while (i < j):\n",
    "            print(i, j)\n",
    "            # increment i and decrement j until a valid character is found\n",
    "            while (i < j and (not s[i].isalnum())): # not i < j in this loop and after\n",
    "                i += 1\n",
    "            while (j > i and (not s[j].isalnum())):\n",
    "                j -= 1\n",
    "\n",
    "            if s[i].lower() != s[j].lower():\n",
    "                return False\n",
    "            \n",
    "            i += 1\n",
    "            j -= 1\n",
    "        \n",
    "        return True"
   ]
  },
  {
   "cell_type": "markdown",
   "metadata": {},
   "source": [
    "### Two Sum II - Input Array Is Sorted\n",
    "[leetcode link](https://leetcode.com/problems/two-sum-ii-input-array-is-sorted/description/)"
   ]
  },
  {
   "cell_type": "code",
   "execution_count": null,
   "metadata": {},
   "outputs": [],
   "source": [
    "class Solution:\n",
    "    def twoSum(self, numbers: list[int], target: int) -> list[int]:\n",
    "        l, r = 0, len(numbers) - 1\n",
    "\n",
    "        while l < r:\n",
    "            cur_sum = numbers[l] + numbers[r]\n",
    "\n",
    "            if cur_sum > target:\n",
    "                r -= 1\n",
    "            elif cur_sum < target:\n",
    "                l += 1\n",
    "            else:\n",
    "                return [l+1, r+1]\n",
    "        \n",
    "        return []"
   ]
  },
  {
   "cell_type": "markdown",
   "metadata": {},
   "source": [
    "### 3Sum\n",
    "[leetcode link](https://leetcode.com/problems/3sum/description/)"
   ]
  },
  {
   "cell_type": "code",
   "execution_count": null,
   "metadata": {},
   "outputs": [],
   "source": [
    "class Solution:\n",
    "    def threeSum(self, nums: list[int]) -> list[list[int]]:\n",
    "        # brute force is O(n3), 3 nested for loop, but recipe for duplicates\n",
    "        res = []\n",
    "        n = len(nums)\n",
    "        \n",
    "        nums.sort() # crucial in removing duplicates\n",
    "\n",
    "        for i in range(n):\n",
    "            if i > 0 and nums[i] == nums[i-1]:\n",
    "                continue\n",
    "\n",
    "            target = -nums[i]\n",
    "            l, r = i+1, n-1\n",
    "\n",
    "            while l < r:\n",
    "                cur_sum = nums[l] + nums[r]\n",
    "\n",
    "                if cur_sum > target:\n",
    "                    r -= 1\n",
    "                    # No need for while here since the pointer will move backward regardless,\n",
    "                    # since if next value nums[r-1] == nums[r], \n",
    "                    # then program will enter this elif statement again,\n",
    "                    # and r -= 1 will be executed.\n",
    "                    # while (l < r and nums[r] == nums[r+1]):\n",
    "                    #     r -= 1\n",
    "                elif cur_sum < target:\n",
    "                    l += 1\n",
    "                    # No need for while here since the pointer will move forward regardless,\n",
    "                    # since if next value nums[l+1] == nums[l], \n",
    "                    # then program will enter this elif statement again,\n",
    "                    # and l += 1 will be executed.\n",
    "                    # while (l < r and nums[l] == nums[l-1]):\n",
    "                    #     l += 1\n",
    "                else:\n",
    "                    print(i, l, r)\n",
    "                    res.append([nums[i], nums[l], nums[r]])\n",
    "                    l += 1\n",
    "                    while (l < r and nums[l] == nums[l-1]):\n",
    "                        l += 1\n",
    "        return res\n"
   ]
  },
  {
   "cell_type": "markdown",
   "metadata": {},
   "source": [
    "### Container With Most Water\n",
    "[leetcode link](https://leetcode.com/problems/container-with-most-water/description/)"
   ]
  },
  {
   "cell_type": "code",
   "execution_count": null,
   "metadata": {},
   "outputs": [],
   "source": [
    "class Solution:\n",
    "    def maxArea(self, height: list[int]) -> int:\n",
    "        # brute force O(n2)\n",
    "\n",
    "        # using two pointer, if we move the pointer with larger height, we will surely always end up \n",
    "        # reducing the water content, since smaller height wall is the bottleneck, and the width also reduced.\n",
    "        # but is we move the pointer with smaller height, \n",
    "        # we can at least HOPE to get a height that maximizes the water content.\n",
    "\n",
    "        l, r = 0, len(height)-1\n",
    "        max_water_content = 0\n",
    "\n",
    "        while l < r:\n",
    "            cur_water_content = (r - l) * min(height[l], height[r])\n",
    "            max_water_content = max(max_water_content, cur_water_content)\n",
    "\n",
    "            if height[l] > height[r]:\n",
    "                r -= 1\n",
    "            else:\n",
    "                l += 1\n",
    "        \n",
    "        return max_water_content"
   ]
  },
  {
   "cell_type": "markdown",
   "metadata": {},
   "source": [
    "### Trapping Rain Water\n",
    "[leetcode link](https://leetcode.com/problems/trapping-rain-water/description/)"
   ]
  },
  {
   "cell_type": "code",
   "execution_count": null,
   "metadata": {},
   "outputs": [],
   "source": [
    "class Solution:\n",
    "    def trap(self, height: list[int]) -> int:\n",
    "        # return self.__max_height_arrays(height)\n",
    "        return self.__constant_space(height)\n",
    "    \n",
    "    # Time: O(n), Space: O(n)\n",
    "    def __max_height_arrays(self, height: list[int]) -> int:        \n",
    "        n = len(height)\n",
    "        max_height_before = [0] * n\n",
    "        max_height_after = [0] * n\n",
    "        water_trapped = 0\n",
    "        \n",
    "        for i in range(1, n):\n",
    "            max_height_before[i] = max(max_height_before[i-1], height[i-1])\n",
    "            max_height_after[n-i-1] = max(max_height_after[n-i], height[n-i])\n",
    "\n",
    "        for i in range(n):       \n",
    "            water_trapped += max(min(max_height_before[i], max_height_after[i]) - height[i], 0)\n",
    "        \n",
    "        return water_trapped\n",
    "    \n",
    "    # Time: O(n), Space: O(1)\n",
    "    def __constant_space(self, height: list[int]) -> int:\n",
    "        n = len(height)\n",
    "        water_trapped = 0\n",
    "\n",
    "        l, r = 0, n-1\n",
    "        max_height_before_l, max_height_after_r = height[l], height[r]\n",
    "\n",
    "        while l < r:  \n",
    "            if height[l] < height[r]:\n",
    "                water_trapped += max(max_height_before_l - height[l], 0)\n",
    "                max_height_before_l = max(max_height_before_l, height[l])\n",
    "                l += 1\n",
    "            else:\n",
    "                water_trapped += max(max_height_after_r - height[r], 0)\n",
    "                max_height_after_r = max(max_height_after_r, height[r])\n",
    "                r -= 1\n",
    "\n",
    "        return water_trapped\n"
   ]
  },
  {
   "cell_type": "markdown",
   "metadata": {},
   "source": [
    "## Stack"
   ]
  },
  {
   "cell_type": "markdown",
   "metadata": {},
   "source": [
    "### Valid Parenthesis\n",
    "[leetcode link](https://leetcode.com/problems/valid-parentheses/description/)"
   ]
  },
  {
   "cell_type": "code",
   "execution_count": null,
   "metadata": {},
   "outputs": [],
   "source": [
    "class Solution:\n",
    "    def isValid(self, s: str) -> bool:\n",
    "        stack = []\n",
    "\n",
    "        for i in range(len(s)):\n",
    "            if len(stack) == 0:\n",
    "                stack.append(s[i])\n",
    "                continue\n",
    "\n",
    "            if self.__is_open(s[i]):\n",
    "                stack.append(s[i])\n",
    "            \n",
    "            else:\n",
    "                if self.__same_closed(stack[-1], s[i]):\n",
    "                    stack.pop()\n",
    "                \n",
    "                # return false when different bracket is closed, early termination possibility\n",
    "                else:\n",
    "                    return False\n",
    "        \n",
    "        return len(stack) == 0\n",
    "    \n",
    "    def __is_open(self, c):\n",
    "        return c == '(' or c == '{' or c == '['\n",
    "\n",
    "    def __same_closed(self, prev: str, cur: str) -> bool:\n",
    "        return  (prev == '(' and cur == ')') or \\\n",
    "                (prev == '{' and cur == '}') or \\\n",
    "                (prev == '[' and cur == ']')"
   ]
  },
  {
   "cell_type": "markdown",
   "metadata": {},
   "source": [
    "### Min Stack\n",
    "[leetcode link](https://leetcode.com/problems/min-stack/description/)"
   ]
  },
  {
   "cell_type": "code",
   "execution_count": null,
   "metadata": {},
   "outputs": [],
   "source": [
    "class MinStack:\n",
    "\n",
    "    def __init__(self):\n",
    "        self.s = []\n",
    "        self.__min_till_now = []\n",
    "\n",
    "    def push(self, val: int) -> None:\n",
    "        self.s.append(val)\n",
    "\n",
    "        if len(self.__min_till_now) == 0:\n",
    "            self.__min_till_now.append(val)\n",
    "        else:\n",
    "            self.__min_till_now.append(min(val, self.__min_till_now[-1]))\n",
    "\n",
    "    def pop(self) -> None:\n",
    "        self.s.pop()\n",
    "        self.__min_till_now.pop()\n",
    "\n",
    "    def top(self) -> int:\n",
    "        return self.s[-1]\n",
    "\n",
    "    def getMin(self) -> int:\n",
    "        return self.__min_till_now[-1]"
   ]
  },
  {
   "cell_type": "markdown",
   "metadata": {},
   "source": [
    "### Evaluate Reverse Polish Notation\n",
    "[leetcode link](https://leetcode.com/problems/evaluate-reverse-polish-notation/description/)"
   ]
  },
  {
   "cell_type": "code",
   "execution_count": null,
   "metadata": {},
   "outputs": [],
   "source": [
    "class Solution:\n",
    "    def evalRPN(self, tokens: list[str]) -> int:\n",
    "        stk = []\n",
    "\n",
    "        for s in tokens:            \n",
    "            if self.__isoperator(s):\n",
    "                a, b = stk[-2], stk[-1]\n",
    "                stk.pop()\n",
    "                stk.pop()\n",
    "                res = self.__operate(a, b, s)\n",
    "                stk.append(res)\n",
    "            else:\n",
    "                stk.append(int(s))\n",
    "\n",
    "        return stk[0]\n",
    "                \n",
    "    def __isoperator(self, s: str):\n",
    "        return s in [\"+\", \"-\", \"/\", \"*\"]\n",
    "    \n",
    "    def __operate(self, a: int, b: int, operator: str) -> int:\n",
    "        if operator == \"+\":\n",
    "            return a + b\n",
    "        elif operator == \"-\":\n",
    "            return a - b\n",
    "        elif operator == \"*\":\n",
    "            return a * b\n",
    "        else:\n",
    "            return int(a / b)"
   ]
  },
  {
   "cell_type": "markdown",
   "metadata": {},
   "source": [
    "### Generate Parentheses\n",
    "[leetcode link](https://leetcode.com/problems/generate-parentheses/description/)"
   ]
  },
  {
   "cell_type": "code",
   "execution_count": null,
   "metadata": {},
   "outputs": [],
   "source": [
    "class Solution:\n",
    "    def generateParenthesis(self, n: int) -> list[str]:\n",
    "        combo = []\n",
    "        res = []\n",
    "\n",
    "        def backtrack(remaining_open: int, remaining_closed: int) -> None:\n",
    "            if remaining_open == remaining_closed == 0:\n",
    "                res.append(\"\".join(combo))\n",
    "                # The follwing will clear all the outputs, even for the interim results. \n",
    "                # Thus we need to pop from stack after each backtrack as below.\n",
    "                # combo.clear() \n",
    "                return\n",
    "            \n",
    "            if remaining_open > 0:\n",
    "                combo.append(\"(\")\n",
    "                backtrack(remaining_open-1, remaining_closed)\n",
    "                combo.pop()\n",
    "            \n",
    "            if remaining_closed > remaining_open:\n",
    "                combo.append(\")\")\n",
    "                backtrack(remaining_open, remaining_closed-1)\n",
    "                combo.pop()\n",
    "\n",
    "        backtrack(n, n)\n",
    "        return res"
   ]
  },
  {
   "cell_type": "markdown",
   "metadata": {},
   "source": [
    "### Daily Temperartures\n",
    "[leetcode link](https://leetcode.com/problems/daily-temperatures/description/)"
   ]
  },
  {
   "cell_type": "code",
   "execution_count": null,
   "metadata": {},
   "outputs": [],
   "source": [
    "class Solution:\n",
    "    def dailyTemperatures(self, temperatures: list[int]) -> list[int]:\n",
    "        stack: list[tuple] = []\n",
    "        res = [0] * len(temperatures)\n",
    "        \n",
    "        for i, temp in enumerate(temperatures):\n",
    "            while (len(stack) > 0 and temp > stack[-1][0]):\n",
    "                _, old_i = stack.pop()\n",
    "                res[old_i] = (i - old_i)\n",
    "            \n",
    "            stack.append((temp, i))\n",
    "\n",
    "        return res"
   ]
  },
  {
   "cell_type": "markdown",
   "metadata": {},
   "source": [
    "### Car Fleet\n",
    "[leetcode link](https://leetcode.com/problems/car-fleet/description/)"
   ]
  },
  {
   "cell_type": "code",
   "execution_count": null,
   "metadata": {},
   "outputs": [],
   "source": [
    "class Solution:\n",
    "    def carFleet(self, target: int, position: list[int], speed: list[int]) -> int:\n",
    "        n_fleets = 0\n",
    "        pair = [(p, s) for p,s in zip(position, speed)]\n",
    "\n",
    "        max_ttd = 0\n",
    "        for p,s in sorted(pair, key = lambda x: x[0], reverse = True): # sort based on position O(nlogn)\n",
    "            ttd = (target - p) / s\n",
    "            if ttd > max_ttd:\n",
    "                n_fleets += 1\n",
    "                max_ttd = ttd\n",
    "        \n",
    "        return n_fleets"
   ]
  },
  {
   "cell_type": "markdown",
   "metadata": {},
   "source": [
    "## Binary Search"
   ]
  },
  {
   "cell_type": "markdown",
   "metadata": {},
   "source": [
    "### Binary Search\n",
    "[leetcode link](https://leetcode.com/problems/binary-search/description/)"
   ]
  },
  {
   "cell_type": "code",
   "execution_count": null,
   "metadata": {},
   "outputs": [],
   "source": [
    "class Solution:\n",
    "    def search(self, nums: list[int], target: int) -> int:\n",
    "        l, r = 0, len(nums) - 1\n",
    "\n",
    "        while l <= r: # = is important here, otherwise elements at the end will be missed\n",
    "            mid = int((l + r) / 2)\n",
    "            if nums[mid] == target:\n",
    "                return mid\n",
    "            \n",
    "            elif nums[mid] < target:\n",
    "                l = mid + 1\n",
    "            \n",
    "            else:\n",
    "                r = mid - 1\n",
    "        \n",
    "        return -1"
   ]
  },
  {
   "cell_type": "markdown",
   "metadata": {},
   "source": [
    "### Search a 2D Matrix\n",
    "[leetcode link](https://leetcode.com/problems/search-a-2d-matrix/description/)"
   ]
  },
  {
   "cell_type": "code",
   "execution_count": null,
   "metadata": {},
   "outputs": [],
   "source": [
    "class Solution:\n",
    "    def searchMatrix(self, matrix: list[list[int]], target: int) -> bool:\n",
    "        rows, cols = len(matrix), len(matrix[0])\n",
    "        n = rows * cols\n",
    "\n",
    "        l, r = 0, n - 1\n",
    "        while l <= r:\n",
    "            mid = int((l + r) / 2)\n",
    "            i, j = mid // cols, mid % cols # convert 1D index to 2D index\n",
    "            \n",
    "            if matrix[i][j] > target:\n",
    "                r = mid - 1\n",
    "            \n",
    "            elif matrix[i][j] < target:\n",
    "                l = mid + 1\n",
    "            \n",
    "            else:\n",
    "                return True\n",
    "\n",
    "        return False"
   ]
  },
  {
   "cell_type": "markdown",
   "metadata": {},
   "source": [
    "### Koko Eating Bananas\n",
    "[Leetcode link](https://leetcode.com/problems/koko-eating-bananas/description/), [Youtube solution](https://youtu.be/U2SozAs9RzA)\n",
    "\n",
    "Binary search on `k =  [1, ..., max(piles)]`, return the min value of `k` where `hours taken <= h` (< is important, since we can achieve the target in less than `h` hours)."
   ]
  },
  {
   "cell_type": "code",
   "execution_count": null,
   "metadata": {},
   "outputs": [],
   "source": [
    "class Solution:\n",
    "    def minEatingSpeed(self, piles: list[int], h: int) -> int:\n",
    "        l, r = 1, max(piles)\n",
    "        validK = 0\n",
    "\n",
    "        while l <= r:\n",
    "            mid = int((l + r) / 2)\n",
    "            hoursToEat = self.__hoursToEat(piles, mid)\n",
    "\n",
    "            if hoursToEat > h:\n",
    "                l = mid + 1\n",
    "            elif hoursToEat <= h:\n",
    "                r = mid - 1\n",
    "                validK = mid\n",
    "\n",
    "        return validK\n",
    "\n",
    "    \n",
    "    def __hoursToEat(self, piles: list[int], k: int) -> int:\n",
    "        hours = 0\n",
    "        \n",
    "        for pile in piles:\n",
    "            hours += math.ceil(pile / k)\n",
    "        return hours"
   ]
  },
  {
   "cell_type": "markdown",
   "metadata": {},
   "source": [
    "### Find Minimum in Rotated Sorted Array\n",
    "[Leetcode link](https://leetcode.com/problems/find-minimum-in-rotated-sorted-array/description/), [Youtube solution](https://youtu.be/nIVW4P8b1VA)\n",
    "\n",
    "Check which half of array is sorted in order to find pivot, then apply binary search on the other half."
   ]
  },
  {
   "cell_type": "code",
   "execution_count": null,
   "metadata": {},
   "outputs": [],
   "source": [
    "class Solution:\n",
    "    def findMin(self, nums: list[int]) -> int:\n",
    "        l, r = 0, len(nums) - 1\n",
    "        minVal = nums[0]\n",
    "\n",
    "        while l <= r:\n",
    "            if nums[l] < nums[r]:   # ascending sub-array found \n",
    "                return min(minVal, nums[l])\n",
    "            \n",
    "            mid = (l + r) // 2\n",
    "            minVal = min(minVal, nums[mid])\n",
    "\n",
    "            if nums[mid] < nums[r]: # right half is ascending, so value less than nums[mid] could be in left half\n",
    "                r = mid - 1\n",
    "            else:                   # left half is ascending, so value less than nums[l] could be in right half\n",
    "                l = mid + 1\n",
    "        \n",
    "        return minVal"
   ]
  },
  {
   "cell_type": "markdown",
   "metadata": {},
   "source": [
    "### Search in Rotated Sorted Array\n",
    "[Leetcode link](https://leetcode.com/problems/search-in-rotated-sorted-array/description/), [Youtube solution](https://youtu.be/U8XENwh8Oy8)\n",
    "\n",
    "Mid will be apart of left sorted or right sorted, if target is in range of sorted portion then search it, otherwise search the other half."
   ]
  },
  {
   "cell_type": "code",
   "execution_count": null,
   "metadata": {},
   "outputs": [],
   "source": [
    "class Solution:\n",
    "    def search(self, nums: list[int], target: int) -> int:\n",
    "        l, r = 0, len(nums) - 1\n",
    "\n",
    "        while l <= r:\n",
    "            mid = (l + r) // 2\n",
    "            if nums[mid] == target:\n",
    "                return mid\n",
    "\n",
    "            if nums[mid] < nums[r]:     # right half is sorted\n",
    "                if nums[mid] < target <= nums[r]:   # target is in right half\n",
    "                    l = mid + 1\n",
    "                else:                               # target is in left half\n",
    "                    r = mid - 1                \n",
    "            else:                       # left half is sorted\n",
    "                if nums[l] <= target < nums[mid]:   # target is in left half\n",
    "                    r = mid - 1\n",
    "                else:                               # target is in right half\n",
    "                    l = mid + 1\n",
    "        \n",
    "        return -1"
   ]
  },
  {
   "cell_type": "markdown",
   "metadata": {},
   "source": [
    "### Time Based Key-Value Store\n",
    "[Leetcode link](https://leetcode.com/problems/time-based-key-value-store/description/), [Youtube solution](https://youtu.be/fu2cD_6E8Hw)\n",
    "\n",
    "Hashmap of `(key, [[val1, timestamp1],[val2, timestamp2], ...])`. Since timestamps are in increasing order, binary search on the timestamps to return the appropriate val. If exact match of timestamp is not found, then return high pointer result after while loop."
   ]
  },
  {
   "cell_type": "code",
   "execution_count": null,
   "metadata": {},
   "outputs": [],
   "source": [
    "class TimeMap:\n",
    "\n",
    "    def __init__(self):\n",
    "        self.__map = defaultdict(list)\n",
    "\n",
    "    def set(self, key: str, value: str, timestamp: int) -> None:\n",
    "        self.__map[key].append((timestamp, value))\n",
    "\n",
    "    def get(self, key: str, timestamp: int) -> str:\n",
    "        __data = self.__map[key]\n",
    "        data_not_present = len(__data) == 0 or timestamp < __data[0][0]\n",
    "\n",
    "        return self.__binary_search(__data, timestamp)\n",
    "\n",
    "    def __binary_search(self, data: list[tuple[int, str]], timestamp: int) -> str:\n",
    "        l, r = 0, len(data) - 1\n",
    "        res = \"\"\n",
    "        \n",
    "        while l <= r:\n",
    "            mid = (l + r) // 2\n",
    "            mid_timestamp, mid_value = data[mid]\n",
    "\n",
    "            if timestamp > mid_timestamp:\n",
    "                res = mid_value\n",
    "                l = mid + 1\n",
    "            elif timestamp < mid_timestamp:\n",
    "                r = mid - 1\n",
    "            else:\n",
    "                res = mid_value\n",
    "                break\n",
    "        \n",
    "        return res   \n",
    "\n",
    "# Your TimeMap object will be instantiated and called as such:\n",
    "# obj = TimeMap()\n",
    "# obj.set(key,value,timestamp)\n",
    "# param_2 = obj.get(key,timestamp)"
   ]
  },
  {
   "cell_type": "markdown",
   "metadata": {},
   "source": [
    "## Sliding Window"
   ]
  },
  {
   "cell_type": "markdown",
   "metadata": {},
   "source": [
    "### Best Time to Buy and Sell Stock\n",
    "[Leetcode link](https://leetcode.com/problems/best-time-to-buy-and-sell-stock/description/), [Youtube solution](https://youtu.be/1pkOgXD63yU)"
   ]
  },
  {
   "cell_type": "code",
   "execution_count": null,
   "metadata": {},
   "outputs": [],
   "source": [
    "class Solution:\n",
    "    def maxProfit(self, prices: list[int]) -> int:\n",
    "        lowest_price = prices[0]\n",
    "        max_profit = 0\n",
    "\n",
    "        for price in prices:\n",
    "            max_profit = max(max_profit, price - lowest_price)\n",
    "            lowest_price = min(lowest_price, price)\n",
    "        \n",
    "        return max_profit"
   ]
  },
  {
   "cell_type": "markdown",
   "metadata": {},
   "source": [
    "### Longest Substring Without Repeating Characters\n",
    "[Leetcode link](https://leetcode.com/problems/longest-substring-without-repeating-characters/description/), [Youtube solution](https://youtu.be/wiGpQwVHdE0)\n",
    "\n",
    "Keep progressing the window with two sliding pointers. If a duplicate is found to the right, then shrink the window from the left."
   ]
  },
  {
   "cell_type": "code",
   "execution_count": null,
   "metadata": {},
   "outputs": [],
   "source": [
    "class Solution:\n",
    "    def lengthOfLongestSubstring(self, s: str) -> int:\n",
    "        l, r = 0, 0\n",
    "        maxlen_substring = 0\n",
    "        chars_in_substring = set()\n",
    "\n",
    "        while l <= r and r < len(s):\n",
    "            # shrink the window from the left side until right character is unique\n",
    "            while (s[r] in chars_in_substring):\n",
    "                chars_in_substring.remove(s[l])\n",
    "                l += 1\n",
    "\n",
    "            chars_in_substring.add(s[r])\n",
    "            maxlen_substring = max(maxlen_substring, r-l+1)\n",
    "            r += 1       \n",
    "\n",
    "        return maxlen_substring"
   ]
  },
  {
   "cell_type": "markdown",
   "metadata": {},
   "source": [
    "### Longest Repeating Character Replacement\n",
    "[Leetcode link](https://leetcode.com/problems/longest-repeating-character-replacement/description/), [Youtube solution](https://youtu.be/gqXU1UyA8pk)\n",
    "\n",
    "Decrement left pointer until substring is valid. Maintain a freequency array of 26 characters. "
   ]
  },
  {
   "cell_type": "code",
   "execution_count": null,
   "metadata": {},
   "outputs": [],
   "source": [
    "class Solution:\n",
    "    def characterReplacement(self, s: str, k: int) -> int:\n",
    "        l, r = 0, 0\n",
    "        freq = [0] * 26\n",
    "        max_len = 0\n",
    "\n",
    "        # O(n)\n",
    "        while l <= r and r < len(s):            \n",
    "            freq[ord(s[r]) - ord('A')] += 1            \n",
    "            \n",
    "            # O(26): Decrement left pointer until substring is valid\n",
    "            while (r - l + 1) - max(freq) > k:\n",
    "                freq[ord(s[l]) - ord('A')] -= 1\n",
    "                l += 1\n",
    "            \n",
    "            max_len = max(max_len, r - l + 1)\n",
    "            r += 1\n",
    "        \n",
    "        return max_len"
   ]
  },
  {
   "cell_type": "markdown",
   "metadata": {},
   "source": [
    "### Permutation in String\n",
    "[Leetcode link](https://leetcode.com/problems/permutation-in-string/description/), [Youtube solution](https://youtu.be/UbyhOgBN834)\n",
    "\n",
    "Match strings based on their frequency encodings, and update encodings if match not found."
   ]
  },
  {
   "cell_type": "code",
   "execution_count": null,
   "metadata": {},
   "outputs": [],
   "source": [
    "class Solution:\n",
    "    def checkInclusion(self, s1: str, s2: str) -> bool:\n",
    "        if len(s1) > len(s2):\n",
    "            return False\n",
    "        \n",
    "        encoded_s1 = self.__encode(s1)\n",
    "        encoded_s2 = self.__encode(s2[:len(s1)])\n",
    "\n",
    "        for l in range(len(s2) - len(s1) + 1):    \n",
    "            # Match strings based on their frequency encodings\n",
    "            if encoded_s1 == encoded_s2:\n",
    "                return True         \n",
    "            \n",
    "            # Update encodings if match not found\n",
    "            r = l + len(s1) - 1\n",
    "            if r < len(s2) - 1:\n",
    "                encoded_s2[ord(s2[r + 1]) - ord('a')] += 1\n",
    "                encoded_s2[ord(s2[l]) - ord('a')] -= 1\n",
    "\n",
    "        return False\n",
    "        \n",
    "    def __encode(self, s: str) -> list[int]:\n",
    "        arr = [0] * 26\n",
    "\n",
    "        for c in s:\n",
    "            arr[ord(c) - ord('a')] += 1\n",
    "        \n",
    "        return arr"
   ]
  },
  {
   "cell_type": "markdown",
   "metadata": {},
   "source": [
    "## Linked Lists"
   ]
  },
  {
   "cell_type": "code",
   "execution_count": null,
   "metadata": {},
   "outputs": [],
   "source": [
    "# Definition for singly-linked list.\n",
    "class ListNode:\n",
    "    def __init__(self, val=0, next=None):\n",
    "        self.val = val\n",
    "        self.next = next\n",
    "from typing import Optional"
   ]
  },
  {
   "cell_type": "markdown",
   "metadata": {},
   "source": [
    "### Reverse Linked List\n",
    "[leetcode link](https://leetcode.com/problems/reverse-linked-list/description/), [Youtube solution](https://youtu.be/G0_I-ZF0S38)\n",
    "\n",
    "Create a `prev` node and then keep swapping until the tail is reached."
   ]
  },
  {
   "cell_type": "code",
   "execution_count": null,
   "metadata": {},
   "outputs": [],
   "source": [
    "class Solution:\n",
    "    def reverseList(self, head: Optional[ListNode]) -> Optional[ListNode]:\n",
    "        prev, cur = None, head\n",
    "        \n",
    "        while cur is not None:\n",
    "            temp = cur.next\n",
    "            cur.next = prev\n",
    "\n",
    "            # Swap\n",
    "            prev = cur\n",
    "            cur = temp\n",
    "        \n",
    "        return prev"
   ]
  },
  {
   "cell_type": "markdown",
   "metadata": {},
   "source": [
    "### Merge Two Sorted Lists\n",
    "[leetcode link](https://leetcode.com/problems/merge-two-sorted-lists/description/), [Youtube solution](https://youtu.be/XIdigk956u0)\n",
    "\n",
    "Traverse one list at a time, until we encounter a value that is larger than the other list's smallest item. Then rewire the pointers. Repeat for the other list."
   ]
  },
  {
   "cell_type": "code",
   "execution_count": null,
   "metadata": {},
   "outputs": [],
   "source": [
    "class Solution:\n",
    "    def mergeTwoLists(self, list1: Optional[ListNode], list2: Optional[ListNode]) -> Optional[ListNode]:\n",
    "        if list1 is None:\n",
    "            return list2\n",
    "        if list2 is None:\n",
    "            return list1\n",
    "        \n",
    "        head = list1 if (list1.val <= list2.val) else list2\n",
    "        cur1, prev1 = list1, None\n",
    "        cur2, prev2 = list2, None\n",
    "        \n",
    "        while (cur1 is not None and cur2 is not None):\n",
    "\n",
    "            if (cur1.val <= cur2.val):\n",
    "                while (cur1 is not None) and (cur1.val <= cur2.val):\n",
    "                    prev1 = cur1\n",
    "                    cur1 = cur1.next\n",
    "                prev1.next = cur2\n",
    "            else:\n",
    "                while (cur2 is not None) and (cur2.val < cur1.val):\n",
    "                    prev2 = cur2\n",
    "                    cur2 = cur2.next\n",
    "                prev2.next = cur1\n",
    "        \n",
    "        return head"
   ]
  },
  {
   "cell_type": "markdown",
   "metadata": {},
   "source": [
    "### Reorder List\n",
    "[leetcode link](https://leetcode.com/problems/reorder-list/description/), [Youtube solution](https://youtu.be/S5bfdUTrKLM)\n",
    "\n",
    "Create reversed list from tail to the middle, and then rewire the pointers."
   ]
  },
  {
   "cell_type": "code",
   "execution_count": null,
   "metadata": {},
   "outputs": [],
   "source": [
    "class Solution:\n",
    "    def reorderList(self, head: Optional[ListNode]) -> None:\n",
    "        \"\"\"\n",
    "        Do not return anything, modify head in-place instead.\n",
    "        \"\"\"\n",
    "        cur1 = head\n",
    "        cur2 = self.__reverseList(self.__getMidNode(head))\n",
    "        \n",
    "        while cur1 != cur2:\n",
    "            if cur1.next:\n",
    "                temp = cur1.next\n",
    "                cur1.next = cur2\n",
    "                cur1 = temp\n",
    "\n",
    "            if cur2.next:\n",
    "                temp = cur2.next\n",
    "                cur2.next = cur1\n",
    "                cur2 = temp\n",
    "\n",
    "    \n",
    "    def __reverseList(self, head: Optional[ListNode]) -> Optional[ListNode]:\n",
    "        prev, cur = None, head\n",
    "        \n",
    "        while cur is not None:\n",
    "            temp = cur.next\n",
    "            cur.next = prev\n",
    "\n",
    "            # Swap\n",
    "            prev = cur\n",
    "            cur = temp\n",
    "        \n",
    "        return prev\n",
    "    \n",
    "    def __getMidNode(self, head: Optional[ListNode]) -> Optional[ListNode]:\n",
    "        mid, tail = head, head\n",
    "        while tail and tail.next:\n",
    "           mid = mid.next\n",
    "           tail = tail.next.next \n",
    "        \n",
    "        return mid"
   ]
  },
  {
   "cell_type": "markdown",
   "metadata": {},
   "source": [
    "### Remove Nth Node From End of List\n",
    "[leetcode link](https://leetcode.com/problems/remove-nth-node-from-end-of-list/description/), [Youtube solution](https://youtu.be/XVuQxVej6y8)\n",
    "\n",
    "Create a dummy node at the beginning of the list. Start traversing from the head after a delay of `n` nodes. Rewire the pointers and return `dummy.next` since the original `head` might have been removed."
   ]
  },
  {
   "cell_type": "code",
   "execution_count": null,
   "metadata": {},
   "outputs": [],
   "source": [
    "class Solution:\n",
    "    def removeNthFromEnd(self, head: Optional[ListNode], n: int) -> Optional[ListNode]:\n",
    "        dummy = ListNode(-1, head)\n",
    "        delay, cur = dummy, head\n",
    "        \n",
    "        # Move `cur` ahead by n times\n",
    "        for _ in range(n):\n",
    "            cur = cur.next\n",
    "\n",
    "        while cur:\n",
    "            cur = cur.next\n",
    "            delay = delay.next\n",
    "\n",
    "        delay.next = delay.next.next\n",
    "\n",
    "        return dummy.next"
   ]
  },
  {
   "cell_type": "markdown",
   "metadata": {},
   "source": [
    "### Copy List with Random Pointer\n",
    "[leetcode link](https://leetcode.com/problems/copy-list-with-random-pointer/description/), [Youtube solution](https://youtu.be/5Y2EiZST97Y)\n",
    "\n",
    "Can be done by maintianing a dictionary of Node mappings. Another way is to create an interweaved list and then rewire the pointers (No extra space required this way)."
   ]
  },
  {
   "cell_type": "code",
   "execution_count": null,
   "metadata": {},
   "outputs": [],
   "source": [
    "class Node:\n",
    "    def __init__(self, x: int, next: Optional['Node'] = None, random: Optional['Node'] = None):\n",
    "        self.val = int(x)\n",
    "        self.next = next\n",
    "        self.random = random\n",
    "\n",
    "class Solution:\n",
    "    def copyRandomList(self, head: 'Optional[Node]') -> 'Optional[Node]':\n",
    "        return self.__using_hashmap(head)\n",
    "        # return self.__using_interweaving(head)\n",
    "    \n",
    "    def __using_hashmap(self, head: 'Optional[Node]') -> 'Optional[Node]':\n",
    "        old_to_new = {None: None}\n",
    "\n",
    "        cur = head\n",
    "        while cur:\n",
    "            old_to_new[cur] = Node(cur.val)\n",
    "            cur = cur.next\n",
    "\n",
    "        cur = head\n",
    "        while cur:\n",
    "            old_to_new[cur].next = old_to_new[cur.next]\n",
    "            old_to_new[cur].random = old_to_new[cur.random]\n",
    "            cur = cur.next\n",
    "        \n",
    "        return old_to_new[head]\n",
    "    \n",
    "    def __using_interweaving(self, head: 'Optional[Node]') -> 'Optional[Node]':\n",
    "        if not head:\n",
    "            return head\n",
    "        \n",
    "        # Create duplicate list and interweave with original list\n",
    "        cur = head\n",
    "        while cur:\n",
    "            temp = cur.next\n",
    "            cur.next = Node(cur.val)\n",
    "            cur.next.next = temp\n",
    "            cur = temp\n",
    "        \n",
    "        # Link the random pointers\n",
    "        cur = head\n",
    "        while cur:\n",
    "            cur.next.random = cur.random.next if cur.random else None\n",
    "            cur = cur.next.next\n",
    "        \n",
    "        # De-weave both lists\n",
    "        cur = head\n",
    "        new_head = head.next\n",
    "        while cur and cur.next:\n",
    "            temp = cur.next\n",
    "            cur.next = cur.next.next\n",
    "            cur = temp\n",
    "\n",
    "        return new_head"
   ]
  },
  {
   "cell_type": "markdown",
   "metadata": {},
   "source": [
    "### Add Two Numbers\n",
    "[leetcode link](https://leetcode.com/problems/add-two-numbers/description/), [Youtube solution](https://youtu.be/wgFPrzTjm7s)\n",
    "\n",
    "Create a dummy node and keep adding the two numbers. Remember to add a carry at the end."
   ]
  },
  {
   "cell_type": "code",
   "execution_count": null,
   "metadata": {},
   "outputs": [],
   "source": [
    "# Definition for singly-linked list.\n",
    "# class ListNode:\n",
    "#     def __init__(self, val=0, next=None):\n",
    "#         self.val = val\n",
    "#         self.next = next\n",
    "class Solution:\n",
    "    def addTwoNumbers(self, l1: Optional[ListNode], l2: Optional[ListNode]) -> Optional[ListNode]:\n",
    "        dummy = cur = ListNode()\n",
    "        \n",
    "        _carry = 0\n",
    "        while l1 or l2:        \n",
    "            # Get the actual sum of digits\n",
    "            _sum = _carry\n",
    "            if l1:\n",
    "                _sum += l1.val\n",
    "                l1 = l1.next\n",
    "            if l2:\n",
    "                _sum += l2.val\n",
    "                l2 = l2.next\n",
    "\n",
    "            # Get the carry/sum values\n",
    "            _carry = _sum // 10\n",
    "            _sum %= 10\n",
    "\n",
    "            # Create the new node\n",
    "            cur.next = ListNode(_sum)\n",
    "            cur = cur.next\n",
    "\n",
    "        # Add a new digit if a non-zero carry value is left at the end\n",
    "        if _carry > 0:\n",
    "            cur.next = ListNode(_carry)\n",
    "        \n",
    "        return dummy.next\n",
    "                    "
   ]
  },
  {
   "cell_type": "markdown",
   "metadata": {},
   "source": [
    "### Linked List Cycle\n",
    "[leetcode link](https://leetcode.com/problems/linked-list-cycle/description/), [Youtube solution]([https](https://youtu.be/gBTe7lFR3vc))\n",
    "\n",
    "1. Can keep a `set()` of `Node` pointers and check if the current node is already in the set. Will require O(n) space.\n",
    "2. Use slow and fast pointers. Will require O(1) space. Proof can be found in the YouTube video. Basically in a loop, the distance b/w the two pointers will be reducing by 1 node (dist b/w nodes + 1 (slow pointer movement) - 2 (fast pointer movement)) node at each iteration, thus they are guaranteed to meet at the same point."
   ]
  },
  {
   "cell_type": "code",
   "execution_count": null,
   "metadata": {},
   "outputs": [],
   "source": [
    "class Solution:\n",
    "    def hasCycle(self, head: Optional[ListNode]) -> bool:\n",
    "        if not head or not head.next:\n",
    "            return False\n",
    "\n",
    "        slow, fast = head, head\n",
    "\n",
    "        while slow and fast and fast.next:\n",
    "            slow = slow.next\n",
    "            fast = fast.next.next\n",
    "\n",
    "            if slow == fast:\n",
    "                return True\n",
    "        \n",
    "        return False"
   ]
  },
  {
   "cell_type": "markdown",
   "metadata": {},
   "source": [
    "### Find the Duplicate Number\n",
    "[leetcode link](https://leetcode.com/problems/find-the-duplicate-number/description/), [Youtube solution]()\n",
    "\n",
    "1. Create a set and add numbers to it, if the number is already in the set, it is the duplicate number. `O(n)` time and `O(n)` space.\n",
    "2. Slow and fast pointers using array indices. See logic to find point of intersection in youtube video. `O(n)` time and `O(1)` space."
   ]
  },
  {
   "cell_type": "code",
   "execution_count": null,
   "metadata": {},
   "outputs": [],
   "source": [
    "class Solution:\n",
    "    def findDuplicate(self, nums: list[int]) -> int:\n",
    "        return self.__using_set(nums)\n",
    "        # return self.__fast_and_slow_pointer(nums)\n",
    "\n",
    "    def __using_set(self, nums: list[int]) -> int:\n",
    "        seen = set()\n",
    "\n",
    "        for num in nums:\n",
    "            if num in seen:\n",
    "                return num\n",
    "            seen.add(num)\n",
    "        \n",
    "        return -1\n",
    "    \n",
    "    def __fast_and_slow_pointer(self, nums: list[int]) -> int:\n",
    "        slow, fast = nums[0], nums[0]\n",
    "\n",
    "        while True:\n",
    "            slow = nums[slow]\n",
    "            fast = nums[nums[fast]]\n",
    "\n",
    "            if slow == fast:\n",
    "                break\n",
    "        \n",
    "        # Start new slow pointer from head and,\n",
    "        # point of intersection is the duplicate value\n",
    "        slow_new = nums[0]\n",
    "        while slow != slow_new:\n",
    "            slow = nums[slow]\n",
    "            slow_new = nums[slow_new]\n",
    "\n",
    "        return slow"
   ]
  },
  {
   "cell_type": "markdown",
   "metadata": {},
   "source": [
    "### LRU Cache\n",
    "[leetcode link](https://leetcode.com/problems/lru-cache/description/), [Youtube solution](https://youtu.be/7ABFKPK2hD4)\n",
    "\n",
    "1. Create a doubly linked list and a hashmap. `O(1)` time and `O(n)` space.\n",
    "2. DLL keeps track of the oldest and newest nodes.\n",
    "3. Hashmap allows for constant lookups."
   ]
  },
  {
   "cell_type": "code",
   "execution_count": 20,
   "metadata": {},
   "outputs": [],
   "source": [
    "class Node:\n",
    "    def __init__(self, key: int, val: int):\n",
    "        self.key, self.val = key, val\n",
    "        self.prev = self.next = None\n",
    "\n",
    "\n",
    "class LRUCache:\n",
    "    def __init__(self, capacity: int):\n",
    "        self.head = Node(-1, -1)\n",
    "        self.tail = Node(-1, -1)\n",
    "        self.head.next = self.tail\n",
    "        self.tail.prev = self.head\n",
    "        \n",
    "        self.capacity = capacity\n",
    "        self.cache: dict[int, Node] = {}\n",
    "\n",
    "    def get(self, key: int) -> int:\n",
    "        if self.__is_new_key(key):\n",
    "            return -1\n",
    "\n",
    "        # No need to edit hashmap since the same node is removed and added at the end\n",
    "        node = self.cache[key]\n",
    "        self.__remove(node)\n",
    "        self.__insert_at_end(node)\n",
    "\n",
    "        return node.val\n",
    "\n",
    "    def put(self, key: int, value: int) -> None:\n",
    "        if self.__is_new_key(key):\n",
    "            node = Node(key, value)\n",
    "            self.__insert_at_end(node)\n",
    "            self.cache[key] = node\n",
    "        else:\n",
    "            node = self.cache[key]\n",
    "            node.val = value\n",
    "            self.__remove(node)\n",
    "            self.__insert_at_end(node)\n",
    "\n",
    "        if not self.__is_within_capacity():\n",
    "            key_to_del = self.head.next.key\n",
    "            self.__remove(self.head.next)\n",
    "            del self.cache[key_to_del]\n",
    "\n",
    "\n",
    "\n",
    "    def __is_new_key(self, key: int) -> bool:\n",
    "        return key not in self.cache.keys()\n",
    "\n",
    "    def __is_within_capacity(self) -> bool:\n",
    "        return len(self.cache) <= self.capacity\n",
    "\n",
    "    def __insert_at_end(self, node: Node) -> None:\n",
    "        node.prev, node.next = self.tail.prev, self.tail\n",
    "        node.prev.next = node.next.prev = node\n",
    "    \n",
    "    def __remove(self, node: Node) -> None:\n",
    "        assert node is not None and node is not self.tail and node is not self.head, \"Removing node from empty cache.\"\n",
    "\n",
    "        node.prev.next = node.next\n",
    "        node.next.prev = node.prev\n",
    "        \n",
    "        node.prev = node.next = None"
   ]
  },
  {
   "cell_type": "markdown",
   "metadata": {},
   "source": [
    "## Trees"
   ]
  },
  {
   "cell_type": "code",
   "execution_count": null,
   "metadata": {},
   "outputs": [],
   "source": [
    "# Definition for a binary tree node.\n",
    "class TreeNode:\n",
    "    def __init__(self, val=0, left=None, right=None):\n",
    "        self.val = val\n",
    "        self.left = left\n",
    "        self.right = right"
   ]
  },
  {
   "cell_type": "markdown",
   "metadata": {},
   "source": [
    "### Invert Binary Tree\n",
    "[leetcode link](https://leetcode.com/problems/invert-binary-tree/description/), [Youtube solution](https://youtu.be/OnSn2XEQ4MY)"
   ]
  },
  {
   "cell_type": "code",
   "execution_count": null,
   "metadata": {},
   "outputs": [],
   "source": [
    "class Solution:\n",
    "    def invertTree(self, root: Optional[TreeNode]) -> Optional[TreeNode]:\n",
    "        if not root:\n",
    "            return root\n",
    "        \n",
    "        temp = self.invertTree(root.right)\n",
    "        root.right = self.invertTree(root.left)\n",
    "        root.left = temp\n",
    "\n",
    "        return root"
   ]
  },
  {
   "cell_type": "markdown",
   "metadata": {},
   "source": [
    "### Maximum Depth of Binary Tree\n",
    "[leetcode link](https://leetcode.com/problems/maximum-depth-of-binary-tree/description/), [Youtube solution](https://youtu.be/hTM3phVI6YQ)\n",
    "\n",
    "1. Recursive DFS (this solution)\n",
    "2. Iterative BFS (using queue)\n",
    "3. Iterative DFS (using stack)"
   ]
  },
  {
   "cell_type": "code",
   "execution_count": null,
   "metadata": {},
   "outputs": [],
   "source": [
    "class Solution:\n",
    "    def maxDepth(self, root: Optional[TreeNode]) -> int:\n",
    "        if not root:\n",
    "            return 0\n",
    "        \n",
    "        return 1 + max(self.maxDepth(root.left), self.maxDepth(root.right))"
   ]
  },
  {
   "cell_type": "markdown",
   "metadata": {},
   "source": [
    "### Diameter of Binary Tree\n",
    "[leetcode link](https://leetcode.com/problems/diameter-of-binary-tree/description/), [Youtube solution](https://youtu.be/bkxqA8Rfv04)\n",
    "1. `O(n^2)` time solution since height is being called for entire subtree at every node.\n",
    "2. `O(n)` time solution that stores the height of each node."
   ]
  },
  {
   "cell_type": "code",
   "execution_count": null,
   "metadata": {},
   "outputs": [],
   "source": [
    "# O(n^2) solution, height is being called for the entire tree for each node\n",
    "class Solution:\n",
    "    def diameterOfBinaryTree(self, root: Optional[TreeNode]) -> int:\n",
    "        if not root:\n",
    "            return 0\n",
    "        \n",
    "        return max(\n",
    "            self.diameterOfBinaryTree(root.left), \n",
    "            self.diameterOfBinaryTree(root.right), \n",
    "            self.__maxDepth(root.left) + self.__maxDepth(root.right)\n",
    "        )\n",
    "    \n",
    "    def __maxDepth(self, root: Optional[TreeNode]) -> int:\n",
    "        if not root:\n",
    "            return 0\n",
    "        \n",
    "        return 1 + max(self.__maxDepth(root.left), self.__maxDepth(root.right))"
   ]
  },
  {
   "cell_type": "code",
   "execution_count": null,
   "metadata": {},
   "outputs": [],
   "source": [
    "# O(n) solution, height is being once for each node, and the diameter is hence updated\n",
    "class Solution:\n",
    "    def diameterOfBinaryTree(self, root: Optional[TreeNode]) -> int:\n",
    "        if not root:\n",
    "            return 0\n",
    "        \n",
    "        self.res = 0\n",
    "        self.__maxDepth(root)\n",
    "        \n",
    "        return self.res\n",
    "    \n",
    "    def __maxDepth(self, root: Optional[TreeNode]) -> int:\n",
    "        if not root:\n",
    "            return 0\n",
    "        \n",
    "        lh = self.__maxDepth(root.left)\n",
    "        rh = self.__maxDepth(root.right)\n",
    "        self.res = max(self.res, lh + rh)\n",
    "        \n",
    "        return 1 + max(lh, rh)"
   ]
  },
  {
   "cell_type": "markdown",
   "metadata": {},
   "source": [
    "### Balanced Binary Tree\n",
    "[leetcode link](https://leetcode.com/problems/balanced-binary-tree/description/), [Youtube solution](https://youtu.be/QfJsau0ItOY)\n",
    "\n",
    "Similar to [Diameter of Binary Tree](#diameter-of-binary-tree), we need to update the result in the height function."
   ]
  },
  {
   "cell_type": "code",
   "execution_count": null,
   "metadata": {},
   "outputs": [],
   "source": [
    "class Solution:\n",
    "    def isBalanced(self, root: Optional[TreeNode]) -> bool:\n",
    "        if not root:\n",
    "            return True\n",
    "        \n",
    "        self.res = True\n",
    "        self.__maxDepth(root)\n",
    "\n",
    "        return self.res\n",
    "        \n",
    "    def __maxDepth(self, root: Optional[TreeNode]) -> int:\n",
    "        if not root:\n",
    "            return 0\n",
    "        \n",
    "        lh = self.__maxDepth(root.left)\n",
    "        rh = self.__maxDepth(root.right)\n",
    "        \n",
    "        if abs(lh - rh) > 1:\n",
    "            self.res = False\n",
    "        \n",
    "        return 1 + max(lh, rh)"
   ]
  },
  {
   "cell_type": "markdown",
   "metadata": {},
   "source": [
    "### Same Tree\n",
    "[leetcode link](https://leetcode.com/problems/same-tree/description/), [Youtube solution](https://youtu.be/vRbbcKXCxOw)\n",
    "\n",
    "Check existence of coressponding nodes and their values from each tree."
   ]
  },
  {
   "cell_type": "code",
   "execution_count": null,
   "metadata": {},
   "outputs": [],
   "source": [
    "class Solution:\n",
    "    def isSameTree(self, p: Optional[TreeNode], q: Optional[TreeNode]) -> bool:\n",
    "        if (not p) and (not q):\n",
    "            return True\n",
    "        \n",
    "        if (not p and q) or (p and not q) or (p.val != q.val):\n",
    "            return False\n",
    "        \n",
    "        return self.isSameTree(p.left, q.left) and self.isSameTree(p.right, q.right)"
   ]
  },
  {
   "cell_type": "markdown",
   "metadata": {},
   "source": [
    "### Subtree of Another Tree\n",
    "[leetcode link](https://leetcode.com/problems/subtree-of-another-tree/description/), [Youtube solution](https://youtu.be/E36O5SWp-LE)\n",
    "\n",
    "Use the `isSameTree()` method. Check if the `root` and `subRoot` are the same tree. If not, check if the left or right subtrees of `root` are the same. Notice two recursions, for `isSubTree()` and `isSameTree()`. Also note that `null` or `None` is always a subtree of another tree."
   ]
  },
  {
   "cell_type": "code",
   "execution_count": null,
   "metadata": {},
   "outputs": [],
   "source": [
    "class Solution:\n",
    "    def isSubtree(self, root: Optional[TreeNode], subRoot: Optional[TreeNode]) -> bool:\n",
    "        if not subRoot:\n",
    "            return True\n",
    "        \n",
    "        if not root:\n",
    "            return False\n",
    "        \n",
    "        if self.isSameTree(root, subRoot):\n",
    "            return True\n",
    "        \n",
    "        return self.isSubtree(root.left, subRoot) or self.isSubtree(root.right, subRoot)\n",
    "        \n",
    "    \n",
    "    def isSameTree(self, root: Optional[TreeNode], subRoot: Optional[TreeNode]) -> bool:\n",
    "        if (not root) and (not subRoot):\n",
    "            return True\n",
    "        \n",
    "        if (not root and subRoot) or (root and not subRoot) or (root.val != subRoot.val):\n",
    "            return False\n",
    "        \n",
    "        return self.isSameTree(root.left, subRoot.left) and self.isSameTree(root.right, subRoot.right)"
   ]
  },
  {
   "cell_type": "markdown",
   "metadata": {},
   "source": [
    "### Lowest Common Ancestor of a Binary Search Tree\n",
    "[leetcode link](https://leetcode.com/problems/lowest-common-ancestor-of-a-binary-search-tree/description/), [Youtube solution](https://youtu.be/gs2LMfuOR9k)\n",
    "\n",
    "- Traverse binary search tree. Use properties of binary search tree; if `p` and `q` are on the same side of `root`, keep traversing, else `root` is the LCA. \n",
    "- Can be done via recursion and iterative."
   ]
  },
  {
   "cell_type": "code",
   "execution_count": null,
   "metadata": {},
   "outputs": [],
   "source": [
    "class Solution:\n",
    "    def lowestCommonAncestor(self, root: TreeNode, p: TreeNode, q: TreeNode) -> TreeNode:        \n",
    "        if p.val < root.val and q.val < root.val:\n",
    "            return self.lowestCommonAncestor(root.left, p, q)\n",
    "        elif p.val > root.val and q.val > root.val:\n",
    "            return self.lowestCommonAncestor(root.right, p, q)\n",
    "        \n",
    "        return root"
   ]
  },
  {
   "cell_type": "markdown",
   "metadata": {},
   "source": [
    "### Binary Tree Level Order Traversal\n",
    "[leetcode link](https://leetcode.com/problems/binary-tree-level-order-traversal/description/), [Youtube solution](https://youtu.be/6ZnyEApgFYg)\n",
    "\n",
    "Can be implemented using `deque` and `list`. `deque` is faster since implementing FIFO in `list` involves shifting all elements."
   ]
  },
  {
   "cell_type": "code",
   "execution_count": null,
   "metadata": {},
   "outputs": [],
   "source": [
    "class Solution:\n",
    "    def levelOrder(self, root: Optional[TreeNode]) -> list[list[int]]:\n",
    "        res = []\n",
    "        if not root:\n",
    "            return res\n",
    "        \n",
    "        nodes = deque([root])\n",
    "        while nodes:\n",
    "            level_vals = []\n",
    "            for _ in range(len(nodes)):\n",
    "                node = nodes.popleft()\n",
    "                level_vals.append(node.val)\n",
    "                \n",
    "                if node.left:\n",
    "                    nodes.append(node.left)\n",
    "                if node.right:\n",
    "                    nodes.append(node.right)\n",
    "            \n",
    "            res.append(level_vals)\n",
    "        \n",
    "        return res"
   ]
  },
  {
   "cell_type": "markdown",
   "metadata": {},
   "source": [
    "### Binary Tree Right Side View\n",
    "[leetcode link](https://leetcode.com/problems/binary-tree-right-side-view/description/), [Youtube solution](https://youtu.be/d4zLyf32e3I)\n",
    "\n",
    "Same as [Level Order Traversal](#binary-tree-level-order-traversal), but reverse the order of adding elements (right, then left). Also only print the first element of each level. Remember that the left tree needs to be traversed as well since the right tree could be shorter, in which case the left tree will be visible."
   ]
  },
  {
   "cell_type": "code",
   "execution_count": null,
   "metadata": {},
   "outputs": [],
   "source": [
    "class Solution:\n",
    "    def rightSideView(self, root: Optional[TreeNode]) -> list[int]:\n",
    "        res = []\n",
    "        if not root:\n",
    "            return res\n",
    "        \n",
    "        nodes = deque([root])\n",
    "        while nodes:\n",
    "            for i in range(len(nodes)):\n",
    "                node = nodes.popleft()\n",
    "                if i == 0:\n",
    "                    res.append(node.val)\n",
    "                \n",
    "                if node.right:\n",
    "                    nodes.append(node.right)\n",
    "                if node.left:\n",
    "                    nodes.append(node.left)\n",
    "        \n",
    "        return res"
   ]
  },
  {
   "cell_type": "markdown",
   "metadata": {},
   "source": [
    "### Count Good Nodes in Binary Tree\n",
    "[leetcode link](https://leetcode.com/problems/count-good-nodes-in-binary-tree/description/), [Youtube solution](https://youtu.be/7cp5imvDzl4)\n",
    "\n",
    "Create a recursive function that calls itself with the `max_until_now` value for each node."
   ]
  },
  {
   "cell_type": "code",
   "execution_count": null,
   "metadata": {},
   "outputs": [],
   "source": [
    "class Solution:\n",
    "    def goodNodes(self, root: TreeNode) -> int:\n",
    "        if not root:\n",
    "            return 0\n",
    "        \n",
    "        self.res = 0\n",
    "        self.call(root, root.val)\n",
    "        return self.res\n",
    "    \n",
    "    def call(self, p: TreeNode, max_till_now: int) -> None:    \n",
    "        if not p:\n",
    "            return\n",
    "        \n",
    "        if p.val >= max_till_now:\n",
    "            self.res += 1 \n",
    "\n",
    "        if p.left:\n",
    "            self.call(p.left, max(max_till_now, p.left.val))\n",
    "        if p.right:\n",
    "            self.call(p.right, max(max_till_now, p.right.val))"
   ]
  },
  {
   "cell_type": "markdown",
   "metadata": {},
   "source": [
    "### Validate Binary Search Tree\n",
    "[leetcode link](https://leetcode.com/problems/validate-binary-search-tree/description/), [Youtube solution](https://youtu.be/s6ATEkipzow)\n",
    "\n",
    "Every child node must be in bounds not only according to its parent, but also its grand-parents."
   ]
  },
  {
   "cell_type": "code",
   "execution_count": null,
   "metadata": {},
   "outputs": [],
   "source": [
    "class Solution:\n",
    "    def isValidBST(self, root: Optional[TreeNode]) -> bool:\n",
    "        if not root:\n",
    "            return True\n",
    "        \n",
    "        return self.isInBounds(root.left, None, root.val) and self.isInBounds(root.right, root.val, None)\n",
    "        \n",
    "    def isInBounds(self, p, lower, upper):\n",
    "        if not p:\n",
    "            return True\n",
    "        \n",
    "        is_node_lower_bound_valid = p.val > lower if lower is not None else True\n",
    "        is_node_upper_bound_valid = p.val < upper if upper is not None else True\n",
    "        isNodeValid = is_node_lower_bound_valid and is_node_upper_bound_valid\n",
    "\n",
    "        return isNodeValid and self.isInBounds(p.left, lower, p.val) and self.isInBounds(p.right, p.val, upper)"
   ]
  },
  {
   "cell_type": "markdown",
   "metadata": {},
   "source": [
    "### Kth Smallest Element in a BST\n",
    "[leetcode link](https://leetcode.com/problems/kth-smallest-element-in-a-bst/description/), [Youtube solution](https://youtu.be/5LUXSvjmGCw)\n",
    "\n",
    "Inorder traversal of a BST leads to ascending order sorted list. Use this fact to find the kth smallest element."
   ]
  },
  {
   "cell_type": "code",
   "execution_count": null,
   "metadata": {},
   "outputs": [],
   "source": [
    "# Recursive solution\n",
    "class Solution:\n",
    "    def kthSmallest(self, root: Optional[TreeNode], k: int) -> int:\n",
    "        self.res = []\n",
    "        self.inorder(root)\n",
    "        return self.res[k-1]\n",
    "    \n",
    "    def inorder(self, p):\n",
    "        if not p:\n",
    "            return\n",
    "        \n",
    "        self.inorder(p.left)\n",
    "        self.res.append(p.val)\n",
    "        self.inorder(p.right)"
   ]
  },
  {
   "cell_type": "code",
   "execution_count": null,
   "metadata": {},
   "outputs": [],
   "source": [
    "# Iterative solution\n",
    "class Solution:\n",
    "    def kthSmallest(self, root: Optional[TreeNode], k: int) -> int:\n",
    "        stack = []\n",
    "        cur = root\n",
    "        n = 0\n",
    "\n",
    "        while True:\n",
    "            while cur:\n",
    "                stack.append(cur)\n",
    "                cur = cur.left\n",
    "\n",
    "            cur = stack.pop()\n",
    "            n += 1\n",
    "            if n == k:\n",
    "                return cur.val\n",
    "            cur = cur.right\n",
    "        \n",
    "        return -1"
   ]
  },
  {
   "cell_type": "markdown",
   "metadata": {},
   "source": [
    "### Construct Binary Tree from Preorder and Inorder Traversal\n",
    "[leetcode link](https://leetcode.com/problems/construct-binary-tree-from-preorder-and-inorder-traversal/description/), [Youtube solution](https://youtu.be/ihj4IQGZ2zc)\n",
    "\n",
    "Use the first index of preorder array as the root, then split the inorder array into two parts. The left part is the left subtree, and the right part is the right subtree. Use recursion to build the left and right subtrees."
   ]
  },
  {
   "cell_type": "code",
   "execution_count": null,
   "metadata": {},
   "outputs": [],
   "source": [
    "class Solution:\n",
    "    def buildTree(self, preorder: list[int], inorder: list[int]) -> Optional[TreeNode]:\n",
    "        if not preorder or not inorder :\n",
    "            return None\n",
    "        \n",
    "        pivot = inorder.index(preorder[0])\n",
    "        \n",
    "        # Can be passed directly as arguments inside the function call,\n",
    "        # might use less memory for the 4 stored arrays \n",
    "        left_inorder = inorder[:pivot]\n",
    "        right_inorder = inorder[pivot+1:]\n",
    "        left_preorder = preorder[1:1+pivot]\n",
    "        right_preorder = preorder[1+pivot:]\n",
    "\n",
    "        root = TreeNode(preorder[0])\n",
    "        root.left = self.buildTree(left_preorder, left_inorder)\n",
    "        root.right = self.buildTree(right_preorder, right_inorder)\n",
    "\n",
    "        return root"
   ]
  }
 ],
 "metadata": {
  "kernelspec": {
   "display_name": "Python 3",
   "language": "python",
   "name": "python3"
  },
  "language_info": {
   "codemirror_mode": {
    "name": "ipython",
    "version": 3
   },
   "file_extension": ".py",
   "mimetype": "text/x-python",
   "name": "python",
   "nbconvert_exporter": "python",
   "pygments_lexer": "ipython3",
   "version": "3.9.6"
  }
 },
 "nbformat": 4,
 "nbformat_minor": 2
}
