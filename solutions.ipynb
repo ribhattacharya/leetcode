{
 "cells": [
  {
   "cell_type": "markdown",
   "metadata": {},
   "source": [
    "# Leetcode solutions\n",
    "[Neetcode 150 Roadmap](https://neetcode.io/roadmap), [Google sheets summary](https://docs.google.com/spreadsheets/d/1jxMLHPfxnBhfbUiL_GacDtjVwi3p8DimxJ5CoDQgGMM/edit?usp=sharing)\n",
    "\n"
   ]
  },
  {
   "cell_type": "markdown",
   "metadata": {},
   "source": [
    "\n",
    "## Arrays & Hashing"
   ]
  },
  {
   "cell_type": "code",
   "execution_count": 1,
   "metadata": {},
   "outputs": [],
   "source": [
    "from collections import defaultdict"
   ]
  },
  {
   "cell_type": "markdown",
   "metadata": {},
   "source": [
    "### Contains Duplicate\n",
    "[leetcode link](https://leetcode.com/problems/contains-duplicate/description/)"
   ]
  },
  {
   "cell_type": "code",
   "execution_count": 2,
   "metadata": {},
   "outputs": [],
   "source": [
    "class Solution:\n",
    "    def containsDuplicate(self, nums: list[int]) -> bool:\n",
    "        # return self.__contains_duplicate_using_sort(nums)\n",
    "        return self.__contains_duplicate_using_set(nums)\n",
    "    \n",
    "    def __contains_duplicate_using_sort(self, nums: list[int]) -> bool:\n",
    "        nums.sort()\n",
    "        \n",
    "        for i in range(len(nums)-1):\n",
    "            if nums[i] == nums[i+1]:\n",
    "                return True\n",
    "        \n",
    "        return False\n",
    "    \n",
    "    def __contains_duplicate_using_set(self, nums: list[int]) -> bool:\n",
    "        nums_set = set()\n",
    "\n",
    "        for num in nums:            \n",
    "            if num in nums_set:\n",
    "                return True\n",
    "            nums_set.add(num)\n",
    "        \n",
    "        return False"
   ]
  },
  {
   "cell_type": "markdown",
   "metadata": {},
   "source": [
    "### Valid Anagram\n",
    "[leetcode link](https://leetcode.com/problems/valid-anagram/description/)"
   ]
  },
  {
   "cell_type": "code",
   "execution_count": 3,
   "metadata": {},
   "outputs": [],
   "source": [
    "class Solution:\n",
    "    def isAnagram(self, s: str, t: str) -> bool:\n",
    "        # return self.__are_strings_equal_by_sort(s, t)\n",
    "        return self.__are_strings_equal_by_hashmap(s, t)\n",
    "\n",
    "    # very inefficient\n",
    "    def __are_strings_equal_by_sort(self, s: str, t: str) -> bool:\n",
    "        if len(s) != len(t):\n",
    "            return False\n",
    "\n",
    "        str1 = list(s)\n",
    "        str2 = list(t)\n",
    "\n",
    "        str1.sort()\n",
    "        str2.sort()\n",
    "\n",
    "        for i in range(len(str1)):\n",
    "            if str1[i] != str2[i]:\n",
    "                return False\n",
    "\n",
    "        return True\n",
    "    \n",
    "    def __are_strings_equal_by_hashmap(self, s: str, t: str) -> bool:\n",
    "        if len(s) != len(t):\n",
    "            return False\n",
    "\n",
    "        counter = {}\n",
    "\n",
    "        for i in range(len(s)):\n",
    "            counter[s[i]] = counter.get(s[i], 0) + 1\n",
    "            counter[t[i]] = counter.get(t[i], 0) - 1\n",
    "        \n",
    "        for key, value in counter.items():\n",
    "            if value != 0:\n",
    "                return False\n",
    "        \n",
    "        return True"
   ]
  },
  {
   "cell_type": "markdown",
   "metadata": {},
   "source": [
    "### Two Sum\n",
    "[leetcode link](https://leetcode.com/problems/two-sum/description/)"
   ]
  },
  {
   "cell_type": "code",
   "execution_count": 4,
   "metadata": {},
   "outputs": [],
   "source": [
    "class Solution:\n",
    "    def twoSum(self, nums: list[int], target: int) -> list[int]:\n",
    "        # return self.__brute_force(nums, target)\n",
    "        return self.__using_sets(nums, target)\n",
    "    \n",
    "    def __brute_force(self, nums: list[int], target: int) -> list[int]:\n",
    "\n",
    "        for i in range(len(nums)-1):\n",
    "            for j in range(i+1, len(nums)):\n",
    "                if nums[i] + nums[j] == target:\n",
    "                    return [i, j]\n",
    "        \n",
    "        return []\n",
    "\n",
    "    def __using_sets(self, nums: list[int], target: int) -> list[int]:\n",
    "        already_seen = {} # {value: index}\n",
    "\n",
    "        for i in range(len(nums)):\n",
    "            to_find = target - nums[i]\n",
    "            if to_find in already_seen:\n",
    "                return [i, already_seen[to_find]]\n",
    "            \n",
    "            already_seen[nums[i]] = i\n",
    "        \n",
    "        return []"
   ]
  },
  {
   "cell_type": "markdown",
   "metadata": {},
   "source": [
    "### Group Anagrams\n",
    "[leetcode link](https://leetcode.com/problems/group-anagrams/description/)"
   ]
  },
  {
   "cell_type": "code",
   "execution_count": 5,
   "metadata": {},
   "outputs": [],
   "source": [
    "class Solution:\n",
    "    def groupAnagrams(self, strs: list[str]) -> list[list[str]]:\n",
    "        encstring_anagram: dict[tuple[int, ...], list[str]] = defaultdict(list)\n",
    "\n",
    "        for s in strs:\n",
    "            encstring_anagram[self.__encode(s)].append(s)\n",
    "        \n",
    "        return encstring_anagram.values()\n",
    "\n",
    "    def __encode(self, s: str) -> tuple[int, ...]:\n",
    "        encoded_s = [0] * 26\n",
    "\n",
    "        for c in s:\n",
    "            encoded_s[ord(c) - ord('a')] += 1\n",
    "        \n",
    "        return tuple(encoded_s)"
   ]
  },
  {
   "cell_type": "markdown",
   "metadata": {},
   "source": [
    "### Top K Frequent Elements\n",
    "[leetcode link](https://leetcode.com/problems/top-k-frequent-elements/description/)"
   ]
  },
  {
   "cell_type": "code",
   "execution_count": 6,
   "metadata": {},
   "outputs": [],
   "source": [
    "class Solution:\n",
    "    def topKFrequent(self, nums: list[int], k: int) -> list[int]:\n",
    "        result = []\n",
    "        freq_bucket = [[] for _ in range(len(nums) + 1)]\n",
    "\n",
    "        freq_map = defaultdict(int)\n",
    "\n",
    "        for num in nums:\n",
    "            freq_map[num] += 1\n",
    "        \n",
    "        for num, freq in freq_map.items():\n",
    "            freq_bucket[freq].append(num)\n",
    "        \n",
    "        for i in range(len(freq_bucket) - 1, 0, -1):\n",
    "            for num in freq_bucket[i]:\n",
    "                result.append(num)\n",
    "                if len(result) == k:\n",
    "                    return result\n",
    "        \n",
    "        return []"
   ]
  },
  {
   "cell_type": "markdown",
   "metadata": {},
   "source": [
    "### Product of Array Except Self\n",
    "[leetcode link](https://leetcode.com/problems/product-of-array-except-self/description/)"
   ]
  },
  {
   "cell_type": "code",
   "execution_count": 7,
   "metadata": {},
   "outputs": [],
   "source": [
    "class Solution:\n",
    "    def productExceptSelf(self, nums: list[int]) -> list[int]:\n",
    "        return self.__no_extra_array(nums)\n",
    "    \n",
    "    # Time: O(n2), Space: O(n)\n",
    "    def __brute_force(self, nums):\n",
    "        res = []\n",
    "        \n",
    "        for i in range(len(nums)):\n",
    "            val = 1\n",
    "            for j in range(len(nums)):\n",
    "                if i != j:\n",
    "                    val *= nums[j]\n",
    "            res.append(val)\n",
    "        \n",
    "        return res\n",
    "    \n",
    "    # Time: O(n), Space: O(n)\n",
    "    def __two_extra_arrays(self, nums):\n",
    "        n = len(nums)\n",
    "        res = [1] * n\n",
    "        pre = [1] * n\n",
    "        post = [1] * n\n",
    "\n",
    "        for i in range(1, n):\n",
    "            pre[i] = pre[i-1] * nums[i-1]\n",
    "            post[n-i-1] = post[n-i] * nums[n-i]\n",
    "        \n",
    "        for i in range(n):\n",
    "            res[i] = pre[i] * post[i]\n",
    "\n",
    "        return res\n",
    "\n",
    "    # Time: O(n), Space: O(1)\n",
    "    def __no_extra_array(self, nums):\n",
    "        n = len(nums)\n",
    "        res = [1] * n\n",
    "\n",
    "        # can also combine both the following loops into one\n",
    "        # pre = 1\n",
    "        # for i in range(n):\n",
    "        #     res[i] = pre\n",
    "        #     pre *= nums[i]\n",
    "        \n",
    "        # post = 1\n",
    "        # for i in range(n-1, -1, -1):\n",
    "        #     res[i] *= post\n",
    "        #     post *= nums[i]\n",
    "        \n",
    "        pre, post = 1, 1\n",
    "        for i in range(n):\n",
    "            res[i] *= pre        \n",
    "            res[n-i-1] *= post\n",
    "\n",
    "            pre *= nums[i]\n",
    "            post *= nums[n-i-1]\n",
    "\n",
    "        return res"
   ]
  },
  {
   "cell_type": "markdown",
   "metadata": {},
   "source": [
    "### Valid Sudoku\n",
    "[leetcode link](https://leetcode.com/problems/valid-sudoku/description/)"
   ]
  },
  {
   "cell_type": "code",
   "execution_count": 8,
   "metadata": {},
   "outputs": [],
   "source": [
    "class Solution:\n",
    "    def isValidSudoku(self, board: list[list[str]]) -> bool:\n",
    "        rows = defaultdict(set)\n",
    "        cols = defaultdict(set)\n",
    "        boxes = defaultdict(set)\n",
    "\n",
    "        for i in range(9):\n",
    "            for j in range(9):\n",
    "                cell_in_focus = board[i][j]\n",
    "\n",
    "                if cell_in_focus == \".\":\n",
    "                    continue\n",
    "                \n",
    "                elif (cell_in_focus in rows[i] or\n",
    "                    cell_in_focus in cols[j] or\n",
    "                    cell_in_focus in boxes[(i//3, j//3)]):\n",
    "                    return False\n",
    "                \n",
    "                else:\n",
    "                    rows[i].add(cell_in_focus)\n",
    "                    cols[j].add(cell_in_focus)\n",
    "                    boxes[(i//3, j//3)].add(cell_in_focus)\n",
    "        \n",
    "        return True"
   ]
  },
  {
   "cell_type": "markdown",
   "metadata": {},
   "source": [
    "### Longest Consecutive Sequence\n",
    "[leetcode link](https://leetcode.com/problems/longest-consecutive-sequence/description/)"
   ]
  },
  {
   "cell_type": "code",
   "execution_count": 9,
   "metadata": {},
   "outputs": [],
   "source": [
    "class Solution:\n",
    "    def longestConsecutive(self, nums: list[int]) -> int:\n",
    "        nums_set = set(nums)\n",
    "        max_seq_len = 0\n",
    "\n",
    "        for num in nums:\n",
    "            # sequence starts with num\n",
    "            if num-1 not in nums_set: \n",
    "                seq_len = 1\n",
    "                val = num + 1\n",
    "                # Check all consecutive greater numbers if they are part of sequence\n",
    "                while (val in nums_set):    \n",
    "                    seq_len += 1\n",
    "                    val += 1\n",
    "                \n",
    "                max_seq_len = max(max_seq_len, seq_len)\n",
    "        \n",
    "        return max_seq_len"
   ]
  },
  {
   "cell_type": "markdown",
   "metadata": {},
   "source": [
    "## Two Pointers"
   ]
  },
  {
   "cell_type": "markdown",
   "metadata": {},
   "source": [
    "### Valid Palindrome\n",
    "[leetcode link](https://leetcode.com/problems/valid-palindrome/)"
   ]
  },
  {
   "cell_type": "code",
   "execution_count": 10,
   "metadata": {},
   "outputs": [],
   "source": [
    "class Solution:\n",
    "    def isPalindrome(self, s: str) -> bool:\n",
    "        i, j = 0, len(s) - 1\n",
    "\n",
    "        while (i < j):\n",
    "            print(i, j)\n",
    "            # increment i and decrement j until a valid character is found\n",
    "            while (i < j and (not s[i].isalnum())): # not i < j in this loop and after\n",
    "                i += 1\n",
    "            while (j > i and (not s[j].isalnum())):\n",
    "                j -= 1\n",
    "\n",
    "            if s[i].lower() != s[j].lower():\n",
    "                return False\n",
    "            \n",
    "            i += 1\n",
    "            j -= 1\n",
    "        \n",
    "        return True"
   ]
  },
  {
   "cell_type": "markdown",
   "metadata": {},
   "source": [
    "### Two Sum II - Input Array Is Sorted\n",
    "[leetcode link](https://leetcode.com/problems/two-sum-ii-input-array-is-sorted/description/)"
   ]
  },
  {
   "cell_type": "code",
   "execution_count": null,
   "metadata": {},
   "outputs": [],
   "source": [
    "class Solution:\n",
    "    def twoSum(self, numbers: list[int], target: int) -> list[int]:\n",
    "        l, r = 0, len(numbers) - 1\n",
    "\n",
    "        while l < r:\n",
    "            cur_sum = numbers[l] + numbers[r]\n",
    "\n",
    "            if cur_sum > target:\n",
    "                r -= 1\n",
    "            elif cur_sum < target:\n",
    "                l += 1\n",
    "            else:\n",
    "                return [l+1, r+1]\n",
    "        \n",
    "        return []"
   ]
  },
  {
   "cell_type": "markdown",
   "metadata": {},
   "source": [
    "### 3Sum\n",
    "[leetcode link](https://leetcode.com/problems/3sum/description/)"
   ]
  },
  {
   "cell_type": "code",
   "execution_count": null,
   "metadata": {},
   "outputs": [],
   "source": [
    "class Solution:\n",
    "    def threeSum(self, nums: list[int]) -> list[list[int]]:\n",
    "        # brute force is O(n3), 3 nested for loop, but recipe for duplicates\n",
    "        res = []\n",
    "        n = len(nums)\n",
    "        \n",
    "        nums.sort() # crucial in removing duplicates\n",
    "\n",
    "        for i in range(n):\n",
    "            if i > 0 and nums[i] == nums[i-1]:\n",
    "                continue\n",
    "\n",
    "            target = -nums[i]\n",
    "            l, r = i+1, n-1\n",
    "\n",
    "            while l < r:\n",
    "                cur_sum = nums[l] + nums[r]\n",
    "\n",
    "                if cur_sum > target:\n",
    "                    r -= 1\n",
    "                    # No need for while here since the pointer will move backward regardless,\n",
    "                    # since if next value nums[r-1] == nums[r], \n",
    "                    # then program will enter this elif statement again,\n",
    "                    # and r -= 1 will be executed.\n",
    "                    # while (l < r and nums[r] == nums[r+1]):\n",
    "                    #     r -= 1\n",
    "                elif cur_sum < target:\n",
    "                    l += 1\n",
    "                    # No need for while here since the pointer will move forward regardless,\n",
    "                    # since if next value nums[l+1] == nums[l], \n",
    "                    # then program will enter this elif statement again,\n",
    "                    # and l += 1 will be executed.\n",
    "                    # while (l < r and nums[l] == nums[l-1]):\n",
    "                    #     l += 1\n",
    "                else:\n",
    "                    print(i, l, r)\n",
    "                    res.append([nums[i], nums[l], nums[r]])\n",
    "                    l += 1\n",
    "                    while (l < r and nums[l] == nums[l-1]):\n",
    "                        l += 1\n",
    "        return res\n"
   ]
  },
  {
   "cell_type": "markdown",
   "metadata": {},
   "source": [
    "### Container With Most Water\n",
    "[leetcode link](https://leetcode.com/problems/container-with-most-water/description/)"
   ]
  },
  {
   "cell_type": "code",
   "execution_count": null,
   "metadata": {},
   "outputs": [],
   "source": [
    "class Solution:\n",
    "    def maxArea(self, height: list[int]) -> int:\n",
    "        # brute force O(n2)\n",
    "\n",
    "        # using two pointer, if we move the pointer with larger height, we will surely always end up \n",
    "        # reducing the water content, since smaller height wall is the bottleneck, and the width also reduced.\n",
    "        # but is we move the pointer with smaller height, \n",
    "        # we can at least HOPE to get a height that maximizes the water content.\n",
    "\n",
    "        l, r = 0, len(height)-1\n",
    "        max_water_content = 0\n",
    "\n",
    "        while l < r:\n",
    "            cur_water_content = (r - l) * min(height[l], height[r])\n",
    "            max_water_content = max(max_water_content, cur_water_content)\n",
    "\n",
    "            if height[l] > height[r]:\n",
    "                r -= 1\n",
    "            else:\n",
    "                l += 1\n",
    "        \n",
    "        return max_water_content"
   ]
  },
  {
   "cell_type": "markdown",
   "metadata": {},
   "source": [
    "### Trapping Rain Water\n",
    "[leetcode link](https://leetcode.com/problems/trapping-rain-water/description/)"
   ]
  },
  {
   "cell_type": "code",
   "execution_count": null,
   "metadata": {},
   "outputs": [],
   "source": [
    "class Solution:\n",
    "    def trap(self, height: list[int]) -> int:\n",
    "        # return self.__max_height_arrays(height)\n",
    "        return self.__constant_space(height)\n",
    "    \n",
    "    # Time: O(n), Space: O(n)\n",
    "    def __max_height_arrays(self, height: list[int]) -> int:        \n",
    "        n = len(height)\n",
    "        max_height_before = [0] * n\n",
    "        max_height_after = [0] * n\n",
    "        water_trapped = 0\n",
    "        \n",
    "        for i in range(1, n):\n",
    "            max_height_before[i] = max(max_height_before[i-1], height[i-1])\n",
    "            max_height_after[n-i-1] = max(max_height_after[n-i], height[n-i])\n",
    "\n",
    "        for i in range(n):       \n",
    "            water_trapped += max(min(max_height_before[i], max_height_after[i]) - height[i], 0)\n",
    "        \n",
    "        return water_trapped\n",
    "    \n",
    "    # Time: O(n), Space: O(1)\n",
    "    def __constant_space(self, height: list[int]) -> int:\n",
    "        n = len(height)\n",
    "        water_trapped = 0\n",
    "\n",
    "        l, r = 0, n-1\n",
    "        max_height_before_l, max_height_after_r = height[l], height[r]\n",
    "\n",
    "        while l < r:  \n",
    "            if height[l] < height[r]:\n",
    "                water_trapped += max(max_height_before_l - height[l], 0)\n",
    "                max_height_before_l = max(max_height_before_l, height[l])\n",
    "                l += 1\n",
    "            else:\n",
    "                water_trapped += max(max_height_after_r - height[r], 0)\n",
    "                max_height_after_r = max(max_height_after_r, height[r])\n",
    "                r -= 1\n",
    "\n",
    "        return water_trapped\n"
   ]
  },
  {
   "cell_type": "markdown",
   "metadata": {},
   "source": [
    "## Stack"
   ]
  },
  {
   "cell_type": "markdown",
   "metadata": {},
   "source": [
    "### Valid Parenthesis\n",
    "[leetcode link](https://leetcode.com/problems/valid-parentheses/description/)"
   ]
  },
  {
   "cell_type": "code",
   "execution_count": null,
   "metadata": {},
   "outputs": [],
   "source": [
    "class Solution:\n",
    "    def isValid(self, s: str) -> bool:\n",
    "        stack = []\n",
    "\n",
    "        for i in range(len(s)):\n",
    "            if len(stack) == 0:\n",
    "                stack.append(s[i])\n",
    "                continue\n",
    "\n",
    "            if self.__is_open(s[i]):\n",
    "                stack.append(s[i])\n",
    "            \n",
    "            else:\n",
    "                if self.__same_closed(stack[-1], s[i]):\n",
    "                    stack.pop()\n",
    "                \n",
    "                # return false when different bracket is closed, early termination possibility\n",
    "                else:\n",
    "                    return False\n",
    "        \n",
    "        return len(stack) == 0\n",
    "    \n",
    "    def __is_open(self, c):\n",
    "        return c == '(' or c == '{' or c == '['\n",
    "\n",
    "    def __same_closed(self, prev: str, cur: str) -> bool:\n",
    "        return  (prev == '(' and cur == ')') or \\\n",
    "                (prev == '{' and cur == '}') or \\\n",
    "                (prev == '[' and cur == ']')"
   ]
  },
  {
   "cell_type": "markdown",
   "metadata": {},
   "source": [
    "### Min Stack\n",
    "[leetcode link](https://leetcode.com/problems/min-stack/description/)"
   ]
  },
  {
   "cell_type": "code",
   "execution_count": null,
   "metadata": {},
   "outputs": [],
   "source": [
    "class MinStack:\n",
    "\n",
    "    def __init__(self):\n",
    "        self.s = []\n",
    "        self.__min_till_now = []\n",
    "\n",
    "    def push(self, val: int) -> None:\n",
    "        self.s.append(val)\n",
    "\n",
    "        if len(self.__min_till_now) == 0:\n",
    "            self.__min_till_now.append(val)\n",
    "        else:\n",
    "            self.__min_till_now.append(min(val, self.__min_till_now[-1]))\n",
    "\n",
    "    def pop(self) -> None:\n",
    "        self.s.pop()\n",
    "        self.__min_till_now.pop()\n",
    "\n",
    "    def top(self) -> int:\n",
    "        return self.s[-1]\n",
    "\n",
    "    def getMin(self) -> int:\n",
    "        return self.__min_till_now[-1]"
   ]
  },
  {
   "cell_type": "markdown",
   "metadata": {},
   "source": [
    "### Evaluate Reverse Polish Notation\n",
    "[leetcode link](https://leetcode.com/problems/evaluate-reverse-polish-notation/description/)"
   ]
  },
  {
   "cell_type": "code",
   "execution_count": null,
   "metadata": {},
   "outputs": [],
   "source": [
    "class Solution:\n",
    "    def evalRPN(self, tokens: list[str]) -> int:\n",
    "        stk = []\n",
    "\n",
    "        for s in tokens:            \n",
    "            if self.__isoperator(s):\n",
    "                a, b = stk[-2], stk[-1]\n",
    "                stk.pop()\n",
    "                stk.pop()\n",
    "                res = self.__operate(a, b, s)\n",
    "                stk.append(res)\n",
    "            else:\n",
    "                stk.append(int(s))\n",
    "\n",
    "        return stk[0]\n",
    "                \n",
    "    def __isoperator(self, s: str):\n",
    "        return s in [\"+\", \"-\", \"/\", \"*\"]\n",
    "    \n",
    "    def __operate(self, a: int, b: int, operator: str) -> int:\n",
    "        if operator == \"+\":\n",
    "            return a + b\n",
    "        elif operator == \"-\":\n",
    "            return a - b\n",
    "        elif operator == \"*\":\n",
    "            return a * b\n",
    "        else:\n",
    "            return int(a / b)"
   ]
  },
  {
   "cell_type": "markdown",
   "metadata": {},
   "source": [
    "### Generate Parentheses\n",
    "[leetcode link](https://leetcode.com/problems/generate-parentheses/description/)"
   ]
  },
  {
   "cell_type": "code",
   "execution_count": null,
   "metadata": {},
   "outputs": [],
   "source": [
    "class Solution:\n",
    "    def generateParenthesis(self, n: int) -> list[str]:\n",
    "        combo = []\n",
    "        res = []\n",
    "\n",
    "        def backtrack(remaining_open: int, remaining_closed: int) -> None:\n",
    "            if remaining_open == remaining_closed == 0:\n",
    "                res.append(\"\".join(combo))\n",
    "                # The follwing will clear all the outputs, even for the interim results. \n",
    "                # Thus we need to pop from stack after each backtrack as below.\n",
    "                # combo.clear() \n",
    "                return\n",
    "            \n",
    "            if remaining_open > 0:\n",
    "                combo.append(\"(\")\n",
    "                backtrack(remaining_open-1, remaining_closed)\n",
    "                combo.pop()\n",
    "            \n",
    "            if remaining_closed > remaining_open:\n",
    "                combo.append(\")\")\n",
    "                backtrack(remaining_open, remaining_closed-1)\n",
    "                combo.pop()\n",
    "\n",
    "        backtrack(n, n)\n",
    "        return res"
   ]
  },
  {
   "cell_type": "markdown",
   "metadata": {},
   "source": [
    "### Daily Temperartures\n",
    "[leetcode link](https://leetcode.com/problems/daily-temperatures/description/)"
   ]
  },
  {
   "cell_type": "code",
   "execution_count": null,
   "metadata": {},
   "outputs": [],
   "source": [
    "class Solution:\n",
    "    def dailyTemperatures(self, temperatures: list[int]) -> list[int]:\n",
    "        stack: list[tuple] = []\n",
    "        res = [0] * len(temperatures)\n",
    "        \n",
    "        for i, temp in enumerate(temperatures):\n",
    "            while (len(stack) > 0 and temp > stack[-1][0]):\n",
    "                _, old_i = stack.pop()\n",
    "                res[old_i] = (i - old_i)\n",
    "            \n",
    "            stack.append((temp, i))\n",
    "\n",
    "        return res"
   ]
  },
  {
   "cell_type": "markdown",
   "metadata": {},
   "source": [
    "### Car Fleet\n",
    "[leetcode link](https://leetcode.com/problems/car-fleet/description/)"
   ]
  },
  {
   "cell_type": "code",
   "execution_count": null,
   "metadata": {},
   "outputs": [],
   "source": [
    "class Solution:\n",
    "    def carFleet(self, target: int, position: list[int], speed: list[int]) -> int:\n",
    "        n_fleets = 0\n",
    "        pair = [(p, s) for p,s in zip(position, speed)]\n",
    "\n",
    "        max_ttd = 0\n",
    "        for p,s in sorted(pair, key = lambda x: x[0], reverse = True): # sort based on position O(nlogn)\n",
    "            ttd = (target - p) / s\n",
    "            if ttd > max_ttd:\n",
    "                n_fleets += 1\n",
    "                max_ttd = ttd\n",
    "        \n",
    "        return n_fleets"
   ]
  }
 ],
 "metadata": {
  "kernelspec": {
   "display_name": "Python 3",
   "language": "python",
   "name": "python3"
  },
  "language_info": {
   "codemirror_mode": {
    "name": "ipython",
    "version": 3
   },
   "file_extension": ".py",
   "mimetype": "text/x-python",
   "name": "python",
   "nbconvert_exporter": "python",
   "pygments_lexer": "ipython3",
   "version": "3.9.6"
  }
 },
 "nbformat": 4,
 "nbformat_minor": 2
}
